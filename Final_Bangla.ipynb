{
  "nbformat": 4,
  "nbformat_minor": 0,
  "metadata": {
    "colab": {
      "provenance": [],
      "gpuType": "T4"
    },
    "kernelspec": {
      "name": "python3",
      "display_name": "Python 3"
    },
    "language_info": {
      "name": "python"
    },
    "accelerator": "GPU"
  },
  "cells": [
    {
      "cell_type": "code",
      "execution_count": 10,
      "metadata": {
        "colab": {
          "base_uri": "https://localhost:8080/"
        },
        "collapsed": true,
        "id": "l_H3GWLpRMZF",
        "outputId": "90945bcb-a972-491b-eaf2-0cf01b1fe249"
      },
      "outputs": [
        {
          "output_type": "stream",
          "name": "stdout",
          "text": [
            "Collecting git+https://github.com/csebuetnlp/normalizer\n",
            "  Cloning https://github.com/csebuetnlp/normalizer to /tmp/pip-req-build-zibfaljw\n",
            "  Running command git clone --filter=blob:none --quiet https://github.com/csebuetnlp/normalizer /tmp/pip-req-build-zibfaljw\n",
            "  Resolved https://github.com/csebuetnlp/normalizer to commit d405944dde5ceeacb7c2fd3245ae2a9dea5f35c9\n",
            "  Preparing metadata (setup.py) ... \u001b[?25l\u001b[?25hdone\n",
            "Requirement already satisfied: regex in /usr/local/lib/python3.11/dist-packages (from normalizer==0.0.1) (2024.11.6)\n",
            "Requirement already satisfied: emoji==1.4.2 in /usr/local/lib/python3.11/dist-packages (from normalizer==0.0.1) (1.4.2)\n",
            "Requirement already satisfied: ftfy==6.0.3 in /usr/local/lib/python3.11/dist-packages (from normalizer==0.0.1) (6.0.3)\n",
            "Requirement already satisfied: wcwidth in /usr/local/lib/python3.11/dist-packages (from ftfy==6.0.3->normalizer==0.0.1) (0.2.13)\n",
            "Requirement already satisfied: nltk in /usr/local/lib/python3.11/dist-packages (3.9.1)\n",
            "Requirement already satisfied: pandas in /usr/local/lib/python3.11/dist-packages (2.2.2)\n",
            "Requirement already satisfied: numpy in /usr/local/lib/python3.11/dist-packages (2.0.2)\n",
            "Requirement already satisfied: matplotlib in /usr/local/lib/python3.11/dist-packages (3.10.0)\n",
            "Requirement already satisfied: scikit-learn in /usr/local/lib/python3.11/dist-packages (1.6.1)\n",
            "Requirement already satisfied: tensorflow in /usr/local/lib/python3.11/dist-packages (2.18.0)\n",
            "Requirement already satisfied: transformers in /usr/local/lib/python3.11/dist-packages (4.54.0)\n",
            "Requirement already satisfied: sentencepiece in /usr/local/lib/python3.11/dist-packages (0.2.0)\n",
            "Requirement already satisfied: click in /usr/local/lib/python3.11/dist-packages (from nltk) (8.2.1)\n",
            "Requirement already satisfied: joblib in /usr/local/lib/python3.11/dist-packages (from nltk) (1.5.1)\n",
            "Requirement already satisfied: regex>=2021.8.3 in /usr/local/lib/python3.11/dist-packages (from nltk) (2024.11.6)\n",
            "Requirement already satisfied: tqdm in /usr/local/lib/python3.11/dist-packages (from nltk) (4.67.1)\n",
            "Requirement already satisfied: python-dateutil>=2.8.2 in /usr/local/lib/python3.11/dist-packages (from pandas) (2.9.0.post0)\n",
            "Requirement already satisfied: pytz>=2020.1 in /usr/local/lib/python3.11/dist-packages (from pandas) (2025.2)\n",
            "Requirement already satisfied: tzdata>=2022.7 in /usr/local/lib/python3.11/dist-packages (from pandas) (2025.2)\n",
            "Requirement already satisfied: contourpy>=1.0.1 in /usr/local/lib/python3.11/dist-packages (from matplotlib) (1.3.2)\n",
            "Requirement already satisfied: cycler>=0.10 in /usr/local/lib/python3.11/dist-packages (from matplotlib) (0.12.1)\n",
            "Requirement already satisfied: fonttools>=4.22.0 in /usr/local/lib/python3.11/dist-packages (from matplotlib) (4.59.0)\n",
            "Requirement already satisfied: kiwisolver>=1.3.1 in /usr/local/lib/python3.11/dist-packages (from matplotlib) (1.4.8)\n",
            "Requirement already satisfied: packaging>=20.0 in /usr/local/lib/python3.11/dist-packages (from matplotlib) (25.0)\n",
            "Requirement already satisfied: pillow>=8 in /usr/local/lib/python3.11/dist-packages (from matplotlib) (11.3.0)\n",
            "Requirement already satisfied: pyparsing>=2.3.1 in /usr/local/lib/python3.11/dist-packages (from matplotlib) (3.2.3)\n",
            "Requirement already satisfied: scipy>=1.6.0 in /usr/local/lib/python3.11/dist-packages (from scikit-learn) (1.16.0)\n",
            "Requirement already satisfied: threadpoolctl>=3.1.0 in /usr/local/lib/python3.11/dist-packages (from scikit-learn) (3.6.0)\n",
            "Requirement already satisfied: absl-py>=1.0.0 in /usr/local/lib/python3.11/dist-packages (from tensorflow) (1.4.0)\n",
            "Requirement already satisfied: astunparse>=1.6.0 in /usr/local/lib/python3.11/dist-packages (from tensorflow) (1.6.3)\n",
            "Requirement already satisfied: flatbuffers>=24.3.25 in /usr/local/lib/python3.11/dist-packages (from tensorflow) (25.2.10)\n",
            "Requirement already satisfied: gast!=0.5.0,!=0.5.1,!=0.5.2,>=0.2.1 in /usr/local/lib/python3.11/dist-packages (from tensorflow) (0.6.0)\n",
            "Requirement already satisfied: google-pasta>=0.1.1 in /usr/local/lib/python3.11/dist-packages (from tensorflow) (0.2.0)\n",
            "Requirement already satisfied: libclang>=13.0.0 in /usr/local/lib/python3.11/dist-packages (from tensorflow) (18.1.1)\n",
            "Requirement already satisfied: opt-einsum>=2.3.2 in /usr/local/lib/python3.11/dist-packages (from tensorflow) (3.4.0)\n",
            "Requirement already satisfied: protobuf!=4.21.0,!=4.21.1,!=4.21.2,!=4.21.3,!=4.21.4,!=4.21.5,<6.0.0dev,>=3.20.3 in /usr/local/lib/python3.11/dist-packages (from tensorflow) (5.29.5)\n",
            "Requirement already satisfied: requests<3,>=2.21.0 in /usr/local/lib/python3.11/dist-packages (from tensorflow) (2.32.3)\n",
            "Requirement already satisfied: setuptools in /usr/local/lib/python3.11/dist-packages (from tensorflow) (75.2.0)\n",
            "Requirement already satisfied: six>=1.12.0 in /usr/local/lib/python3.11/dist-packages (from tensorflow) (1.17.0)\n",
            "Requirement already satisfied: termcolor>=1.1.0 in /usr/local/lib/python3.11/dist-packages (from tensorflow) (3.1.0)\n",
            "Requirement already satisfied: typing-extensions>=3.6.6 in /usr/local/lib/python3.11/dist-packages (from tensorflow) (4.14.1)\n",
            "Requirement already satisfied: wrapt>=1.11.0 in /usr/local/lib/python3.11/dist-packages (from tensorflow) (1.17.2)\n",
            "Requirement already satisfied: grpcio<2.0,>=1.24.3 in /usr/local/lib/python3.11/dist-packages (from tensorflow) (1.74.0)\n",
            "Requirement already satisfied: tensorboard<2.19,>=2.18 in /usr/local/lib/python3.11/dist-packages (from tensorflow) (2.18.0)\n",
            "Requirement already satisfied: keras>=3.5.0 in /usr/local/lib/python3.11/dist-packages (from tensorflow) (3.8.0)\n",
            "Requirement already satisfied: h5py>=3.11.0 in /usr/local/lib/python3.11/dist-packages (from tensorflow) (3.14.0)\n",
            "Requirement already satisfied: ml-dtypes<0.5.0,>=0.4.0 in /usr/local/lib/python3.11/dist-packages (from tensorflow) (0.4.1)\n",
            "Requirement already satisfied: tensorflow-io-gcs-filesystem>=0.23.1 in /usr/local/lib/python3.11/dist-packages (from tensorflow) (0.37.1)\n",
            "Requirement already satisfied: filelock in /usr/local/lib/python3.11/dist-packages (from transformers) (3.18.0)\n",
            "Requirement already satisfied: huggingface-hub<1.0,>=0.34.0 in /usr/local/lib/python3.11/dist-packages (from transformers) (0.34.1)\n",
            "Requirement already satisfied: pyyaml>=5.1 in /usr/local/lib/python3.11/dist-packages (from transformers) (6.0.2)\n",
            "Requirement already satisfied: tokenizers<0.22,>=0.21 in /usr/local/lib/python3.11/dist-packages (from transformers) (0.21.2)\n",
            "Requirement already satisfied: safetensors>=0.4.3 in /usr/local/lib/python3.11/dist-packages (from transformers) (0.5.3)\n",
            "Requirement already satisfied: wheel<1.0,>=0.23.0 in /usr/local/lib/python3.11/dist-packages (from astunparse>=1.6.0->tensorflow) (0.45.1)\n",
            "Requirement already satisfied: fsspec>=2023.5.0 in /usr/local/lib/python3.11/dist-packages (from huggingface-hub<1.0,>=0.34.0->transformers) (2025.3.0)\n",
            "Requirement already satisfied: hf-xet<2.0.0,>=1.1.3 in /usr/local/lib/python3.11/dist-packages (from huggingface-hub<1.0,>=0.34.0->transformers) (1.1.5)\n",
            "Requirement already satisfied: rich in /usr/local/lib/python3.11/dist-packages (from keras>=3.5.0->tensorflow) (13.9.4)\n",
            "Requirement already satisfied: namex in /usr/local/lib/python3.11/dist-packages (from keras>=3.5.0->tensorflow) (0.1.0)\n",
            "Requirement already satisfied: optree in /usr/local/lib/python3.11/dist-packages (from keras>=3.5.0->tensorflow) (0.17.0)\n",
            "Requirement already satisfied: charset-normalizer<4,>=2 in /usr/local/lib/python3.11/dist-packages (from requests<3,>=2.21.0->tensorflow) (3.4.2)\n",
            "Requirement already satisfied: idna<4,>=2.5 in /usr/local/lib/python3.11/dist-packages (from requests<3,>=2.21.0->tensorflow) (3.10)\n",
            "Requirement already satisfied: urllib3<3,>=1.21.1 in /usr/local/lib/python3.11/dist-packages (from requests<3,>=2.21.0->tensorflow) (2.5.0)\n",
            "Requirement already satisfied: certifi>=2017.4.17 in /usr/local/lib/python3.11/dist-packages (from requests<3,>=2.21.0->tensorflow) (2025.7.14)\n",
            "Requirement already satisfied: markdown>=2.6.8 in /usr/local/lib/python3.11/dist-packages (from tensorboard<2.19,>=2.18->tensorflow) (3.8.2)\n",
            "Requirement already satisfied: tensorboard-data-server<0.8.0,>=0.7.0 in /usr/local/lib/python3.11/dist-packages (from tensorboard<2.19,>=2.18->tensorflow) (0.7.2)\n",
            "Requirement already satisfied: werkzeug>=1.0.1 in /usr/local/lib/python3.11/dist-packages (from tensorboard<2.19,>=2.18->tensorflow) (3.1.3)\n",
            "Requirement already satisfied: MarkupSafe>=2.1.1 in /usr/local/lib/python3.11/dist-packages (from werkzeug>=1.0.1->tensorboard<2.19,>=2.18->tensorflow) (3.0.2)\n",
            "Requirement already satisfied: markdown-it-py>=2.2.0 in /usr/local/lib/python3.11/dist-packages (from rich->keras>=3.5.0->tensorflow) (3.0.0)\n",
            "Requirement already satisfied: pygments<3.0.0,>=2.13.0 in /usr/local/lib/python3.11/dist-packages (from rich->keras>=3.5.0->tensorflow) (2.19.2)\n",
            "Requirement already satisfied: mdurl~=0.1 in /usr/local/lib/python3.11/dist-packages (from markdown-it-py>=2.2.0->rich->keras>=3.5.0->tensorflow) (0.1.2)\n"
          ]
        }
      ],
      "source": [
        "# ==============================\n",
        "# 📦 STEP 1: Installation\n",
        "# ==============================\n",
        "!pip install git+https://github.com/csebuetnlp/normalizer\n",
        "!pip install nltk pandas numpy matplotlib scikit-learn tensorflow transformers sentencepiece\n"
      ]
    },
    {
      "cell_type": "code",
      "source": [
        "# ==============================\n",
        "# 📚 STEP 2: Imports\n",
        "# ==============================\n",
        "import pandas as pd\n",
        "import numpy as np\n",
        "import matplotlib.pyplot as plt\n",
        "import re\n",
        "import nltk\n",
        "from sklearn.model_selection import train_test_split\n",
        "from sklearn.metrics import classification_report, confusion_matrix, ConfusionMatrixDisplay\n",
        "from tensorflow.keras.preprocessing.text import Tokenizer\n",
        "from tensorflow.keras.preprocessing.sequence import pad_sequences\n",
        "from tensorflow.keras.utils import to_categorical\n",
        "from tensorflow.keras.models import Model\n",
        "from tensorflow.keras.layers import Input, Embedding, LSTM, Dense, Bidirectional, Concatenate, Dropout\n",
        "from transformers import TFAutoModelForSeq2SeqLM, AutoTokenizer\n",
        "from normalizer import normalize\n",
        "\n",
        "nltk.download('punkt')"
      ],
      "metadata": {
        "colab": {
          "base_uri": "https://localhost:8080/"
        },
        "id": "uPdSDvjoRsJ5",
        "outputId": "337078d8-a6ec-43db-98f3-96d5af694327"
      },
      "execution_count": 11,
      "outputs": [
        {
          "output_type": "stream",
          "name": "stderr",
          "text": [
            "[nltk_data] Downloading package punkt to /root/nltk_data...\n",
            "[nltk_data]   Package punkt is already up-to-date!\n"
          ]
        },
        {
          "output_type": "execute_result",
          "data": {
            "text/plain": [
              "True"
            ]
          },
          "metadata": {},
          "execution_count": 11
        }
      ]
    },
    {
      "cell_type": "code",
      "source": [
        "# ==============================\n",
        "# 📄 STEP 3: Load & Split Dataset\n",
        "# ==============================\n",
        "data = pd.read_csv(\"/content/Copy of Bangla_news (1).csv\")\n",
        "data = data.dropna(subset=['content', 'title'])\n",
        "data = data[data['content'].str.strip() != '']\n",
        "data = data[data['title'].str.strip() != '']\n",
        "\n",
        "train_data, temp_data = train_test_split(data, test_size=0.2, random_state=42)\n",
        "val_data, test_data = train_test_split(temp_data, test_size=0.5, random_state=42)"
      ],
      "metadata": {
        "id": "vImn0vbeRvkK"
      },
      "execution_count": 12,
      "outputs": []
    },
    {
      "cell_type": "code",
      "source": [
        "# ==============================\n",
        "# 🧼 STEP 4: Normalize (BUET)\n",
        "# ==============================\n",
        "def clean_text(text):\n",
        "    text = text.lower()\n",
        "    text = re.sub(r\"[^\\u0980-\\u09FFa-zA-Z0-9\\s]\", \"\", text)\n",
        "    return normalize(text)\n",
        "\n",
        "for df in [train_data, val_data, test_data]:\n",
        "    df['content'] = df['content'].astype(str).apply(clean_text)\n",
        "    df['title'] = df['title'].astype(str).apply(clean_text)"
      ],
      "metadata": {
        "id": "JZHCagyqR1R1"
      },
      "execution_count": 13,
      "outputs": []
    },
    {
      "cell_type": "code",
      "source": [
        "# ==============================\n",
        "# 🔢 STEP 5: Tokenization & Padding\n",
        "# ==============================\n",
        "content_tok = Tokenizer()\n",
        "content_tok.fit_on_texts(train_data['content'])\n",
        "title_tok = Tokenizer()\n",
        "title_tok.fit_on_texts(train_data['title'])\n",
        "\n",
        "max_content_len = 150\n",
        "max_title_len = 20\n",
        "\n",
        "# Prepare data\n",
        "X_train = pad_sequences(content_tok.texts_to_sequences(train_data['content']), maxlen=max_content_len, padding='post')\n",
        "X_val = pad_sequences(content_tok.texts_to_sequences(val_data['content']), maxlen=max_content_len, padding='post')\n",
        "X_test = pad_sequences(content_tok.texts_to_sequences(test_data['content']), maxlen=max_content_len, padding='post')\n",
        "\n",
        "title_seq_train = title_tok.texts_to_sequences(train_data['title'])\n",
        "title_seq_val = title_tok.texts_to_sequences(val_data['title'])\n",
        "title_seq_test = title_tok.texts_to_sequences(test_data['title'])\n",
        "\n",
        "decoder_input_train = pad_sequences([seq[:-1] for seq in title_seq_train], maxlen=max_title_len-1, padding='post')\n",
        "decoder_input_val = pad_sequences([seq[:-1] for seq in title_seq_val], maxlen=max_title_len-1, padding='post')\n",
        "\n",
        "decoder_target_train = pad_sequences([seq[1:] for seq in title_seq_train], maxlen=max_title_len-1, padding='post')\n",
        "decoder_target_val = pad_sequences([seq[1:] for seq in title_seq_val], maxlen=max_title_len-1, padding='post')\n",
        "\n",
        "vocab_content = len(content_tok.word_index) + 1\n",
        "vocab_title = len(title_tok.word_index) + 1\n",
        "embedding_dim = 256\n",
        "units = 256"
      ],
      "metadata": {
        "id": "Hw4t4VBPR2b2"
      },
      "execution_count": 14,
      "outputs": []
    },
    {
      "cell_type": "code",
      "source": [
        "# ==============================\n",
        "# 🧠 STEP 6: Build Seq2Seq Models\n",
        "# ==============================\n",
        "def build_seq2seq(model_type='lstm'):\n",
        "    encoder_inputs = Input(shape=(max_content_len,))\n",
        "    enc_emb = Embedding(vocab_content, embedding_dim)(encoder_inputs)\n",
        "\n",
        "    decoder_inputs = Input(shape=(max_title_len - 1,))\n",
        "    dec_emb = Embedding(vocab_title, embedding_dim)(decoder_inputs)\n",
        "\n",
        "    if model_type == 'lstm':\n",
        "        encoder_layer = LSTM(units, return_state=True)\n",
        "        encoder_outputs, state_h, state_c = encoder_layer(enc_emb)\n",
        "        encoder_states = [state_h, state_c]\n",
        "        decoder_layer = LSTM(units, return_sequences=True, return_state=True)\n",
        "        decoder_outputs, _, _ = decoder_layer(dec_emb, initial_state=encoder_states)\n",
        "\n",
        "    elif model_type == 'bilstm':\n",
        "        encoder_layer = Bidirectional(LSTM(units, return_state=True), merge_mode='concat')\n",
        "        encoder_outputs, forward_h, forward_c, backward_h, backward_c = encoder_layer(enc_emb)\n",
        "        state_h = Concatenate()([forward_h, backward_h])\n",
        "        state_c = Concatenate()([forward_c, backward_c])\n",
        "        encoder_states = [state_h, state_c]\n",
        "        decoder_layer = LSTM(units * 2, return_sequences=True, return_state=True)\n",
        "        decoder_outputs, _, _ = decoder_layer(dec_emb, initial_state=encoder_states)\n",
        "\n",
        "    decoder_dense = Dense(vocab_title, activation='softmax')(decoder_outputs)\n",
        "    model = Model([encoder_inputs, decoder_inputs], decoder_dense)\n",
        "    model.compile(optimizer='adam', loss='sparse_categorical_crossentropy', metrics=['accuracy'])\n",
        "    return model\n",
        "\n",
        "lstm_model = build_seq2seq('lstm')\n",
        "bilstm_model = build_seq2seq('bilstm')"
      ],
      "metadata": {
        "id": "nccxWS8ER75j"
      },
      "execution_count": 15,
      "outputs": []
    },
    {
      "cell_type": "code",
      "source": [
        "lstm_history = lstm_model.fit([X_train, decoder_input_train], decoder_target_train,\n",
        "                              validation_data=([X_val, decoder_input_val], decoder_target_val),\n",
        "                              epochs=20, batch_size=64)"
      ],
      "metadata": {
        "colab": {
          "base_uri": "https://localhost:8080/"
        },
        "id": "e5MBffmZSEom",
        "outputId": "606776fd-1bf2-4ab7-e04c-1ceb13ec688f"
      },
      "execution_count": 16,
      "outputs": [
        {
          "output_type": "stream",
          "name": "stdout",
          "text": [
            "Epoch 1/20\n",
            "\u001b[1m149/149\u001b[0m \u001b[32m━━━━━━━━━━━━━━━━━━━━\u001b[0m\u001b[37m\u001b[0m \u001b[1m16s\u001b[0m 89ms/step - accuracy: 0.6494 - loss: 4.8210 - val_accuracy: 0.7199 - val_loss: 2.3471\n",
            "Epoch 2/20\n",
            "\u001b[1m149/149\u001b[0m \u001b[32m━━━━━━━━━━━━━━━━━━━━\u001b[0m\u001b[37m\u001b[0m \u001b[1m20s\u001b[0m 87ms/step - accuracy: 0.6770 - loss: 2.7476 - val_accuracy: 0.7209 - val_loss: 2.3162\n",
            "Epoch 3/20\n",
            "\u001b[1m149/149\u001b[0m \u001b[32m━━━━━━━━━━━━━━━━━━━━\u001b[0m\u001b[37m\u001b[0m \u001b[1m12s\u001b[0m 82ms/step - accuracy: 0.6761 - loss: 2.7061 - val_accuracy: 0.7216 - val_loss: 2.3020\n",
            "Epoch 4/20\n",
            "\u001b[1m149/149\u001b[0m \u001b[32m━━━━━━━━━━━━━━━━━━━━\u001b[0m\u001b[37m\u001b[0m \u001b[1m20s\u001b[0m 81ms/step - accuracy: 0.6793 - loss: 2.6436 - val_accuracy: 0.7223 - val_loss: 2.2902\n",
            "Epoch 5/20\n",
            "\u001b[1m149/149\u001b[0m \u001b[32m━━━━━━━━━━━━━━━━━━━━\u001b[0m\u001b[37m\u001b[0m \u001b[1m21s\u001b[0m 86ms/step - accuracy: 0.6789 - loss: 2.6057 - val_accuracy: 0.7234 - val_loss: 2.2811\n",
            "Epoch 6/20\n",
            "\u001b[1m149/149\u001b[0m \u001b[32m━━━━━━━━━━━━━━━━━━━━\u001b[0m\u001b[37m\u001b[0m \u001b[1m20s\u001b[0m 82ms/step - accuracy: 0.6809 - loss: 2.5355 - val_accuracy: 0.7233 - val_loss: 2.2741\n",
            "Epoch 7/20\n",
            "\u001b[1m149/149\u001b[0m \u001b[32m━━━━━━━━━━━━━━━━━━━━\u001b[0m\u001b[37m\u001b[0m \u001b[1m20s\u001b[0m 82ms/step - accuracy: 0.6832 - loss: 2.4661 - val_accuracy: 0.7257 - val_loss: 2.2639\n",
            "Epoch 8/20\n",
            "\u001b[1m149/149\u001b[0m \u001b[32m━━━━━━━━━━━━━━━━━━━━\u001b[0m\u001b[37m\u001b[0m \u001b[1m21s\u001b[0m 86ms/step - accuracy: 0.6851 - loss: 2.3929 - val_accuracy: 0.7268 - val_loss: 2.2571\n",
            "Epoch 9/20\n",
            "\u001b[1m149/149\u001b[0m \u001b[32m━━━━━━━━━━━━━━━━━━━━\u001b[0m\u001b[37m\u001b[0m \u001b[1m21s\u001b[0m 87ms/step - accuracy: 0.6894 - loss: 2.3015 - val_accuracy: 0.7286 - val_loss: 2.2469\n",
            "Epoch 10/20\n",
            "\u001b[1m149/149\u001b[0m \u001b[32m━━━━━━━━━━━━━━━━━━━━\u001b[0m\u001b[37m\u001b[0m \u001b[1m21s\u001b[0m 87ms/step - accuracy: 0.6921 - loss: 2.2284 - val_accuracy: 0.7307 - val_loss: 2.2370\n",
            "Epoch 11/20\n",
            "\u001b[1m149/149\u001b[0m \u001b[32m━━━━━━━━━━━━━━━━━━━━\u001b[0m\u001b[37m\u001b[0m \u001b[1m20s\u001b[0m 86ms/step - accuracy: 0.6969 - loss: 2.1302 - val_accuracy: 0.7324 - val_loss: 2.2299\n",
            "Epoch 12/20\n",
            "\u001b[1m149/149\u001b[0m \u001b[32m━━━━━━━━━━━━━━━━━━━━\u001b[0m\u001b[37m\u001b[0m \u001b[1m20s\u001b[0m 86ms/step - accuracy: 0.7015 - loss: 2.0375 - val_accuracy: 0.7332 - val_loss: 2.2225\n",
            "Epoch 13/20\n",
            "\u001b[1m149/149\u001b[0m \u001b[32m━━━━━━━━━━━━━━━━━━━━\u001b[0m\u001b[37m\u001b[0m \u001b[1m20s\u001b[0m 82ms/step - accuracy: 0.7062 - loss: 1.9536 - val_accuracy: 0.7345 - val_loss: 2.2189\n",
            "Epoch 14/20\n",
            "\u001b[1m149/149\u001b[0m \u001b[32m━━━━━━━━━━━━━━━━━━━━\u001b[0m\u001b[37m\u001b[0m \u001b[1m13s\u001b[0m 87ms/step - accuracy: 0.7131 - loss: 1.8529 - val_accuracy: 0.7357 - val_loss: 2.2121\n",
            "Epoch 15/20\n",
            "\u001b[1m149/149\u001b[0m \u001b[32m━━━━━━━━━━━━━━━━━━━━\u001b[0m\u001b[37m\u001b[0m \u001b[1m12s\u001b[0m 82ms/step - accuracy: 0.7217 - loss: 1.7513 - val_accuracy: 0.7364 - val_loss: 2.2150\n",
            "Epoch 16/20\n",
            "\u001b[1m149/149\u001b[0m \u001b[32m━━━━━━━━━━━━━━━━━━━━\u001b[0m\u001b[37m\u001b[0m \u001b[1m20s\u001b[0m 81ms/step - accuracy: 0.7282 - loss: 1.6672 - val_accuracy: 0.7379 - val_loss: 2.2164\n",
            "Epoch 17/20\n",
            "\u001b[1m149/149\u001b[0m \u001b[32m━━━━━━━━━━━━━━━━━━━━\u001b[0m\u001b[37m\u001b[0m \u001b[1m21s\u001b[0m 87ms/step - accuracy: 0.7406 - loss: 1.5710 - val_accuracy: 0.7387 - val_loss: 2.2198\n",
            "Epoch 18/20\n",
            "\u001b[1m149/149\u001b[0m \u001b[32m━━━━━━━━━━━━━━━━━━━━\u001b[0m\u001b[37m\u001b[0m \u001b[1m21s\u001b[0m 87ms/step - accuracy: 0.7538 - loss: 1.4738 - val_accuracy: 0.7402 - val_loss: 2.2328\n",
            "Epoch 19/20\n",
            "\u001b[1m149/149\u001b[0m \u001b[32m━━━━━━━━━━━━━━━━━━━━\u001b[0m\u001b[37m\u001b[0m \u001b[1m12s\u001b[0m 83ms/step - accuracy: 0.7681 - loss: 1.3909 - val_accuracy: 0.7410 - val_loss: 2.2442\n",
            "Epoch 20/20\n",
            "\u001b[1m149/149\u001b[0m \u001b[32m━━━━━━━━━━━━━━━━━━━━\u001b[0m\u001b[37m\u001b[0m \u001b[1m20s\u001b[0m 82ms/step - accuracy: 0.7840 - loss: 1.2956 - val_accuracy: 0.7417 - val_loss: 2.2603\n"
          ]
        }
      ]
    },
    {
      "cell_type": "code",
      "source": [
        "bilstm_history = bilstm_model.fit([X_train, decoder_input_train], decoder_target_train,\n",
        "                                  validation_data=([X_val, decoder_input_val], decoder_target_val),\n",
        "                                  epochs=20, batch_size=64)"
      ],
      "metadata": {
        "colab": {
          "base_uri": "https://localhost:8080/"
        },
        "id": "328_2OMlSGw-",
        "outputId": "56dd3d0e-295b-422d-ed08-8deeba5f9fd6"
      },
      "execution_count": 17,
      "outputs": [
        {
          "output_type": "stream",
          "name": "stdout",
          "text": [
            "Epoch 1/20\n",
            "\u001b[1m149/149\u001b[0m \u001b[32m━━━━━━━━━━━━━━━━━━━━\u001b[0m\u001b[37m\u001b[0m \u001b[1m23s\u001b[0m 131ms/step - accuracy: 0.6513 - loss: 4.1378 - val_accuracy: 0.7212 - val_loss: 2.3299\n",
            "Epoch 2/20\n",
            "\u001b[1m149/149\u001b[0m \u001b[32m━━━━━━━━━━━━━━━━━━━━\u001b[0m\u001b[37m\u001b[0m \u001b[1m21s\u001b[0m 133ms/step - accuracy: 0.6780 - loss: 2.7208 - val_accuracy: 0.7219 - val_loss: 2.2957\n",
            "Epoch 3/20\n",
            "\u001b[1m149/149\u001b[0m \u001b[32m━━━━━━━━━━━━━━━━━━━━\u001b[0m\u001b[37m\u001b[0m \u001b[1m20s\u001b[0m 131ms/step - accuracy: 0.6810 - loss: 2.6423 - val_accuracy: 0.7239 - val_loss: 2.2704\n",
            "Epoch 4/20\n",
            "\u001b[1m149/149\u001b[0m \u001b[32m━━━━━━━━━━━━━━━━━━━━\u001b[0m\u001b[37m\u001b[0m \u001b[1m20s\u001b[0m 127ms/step - accuracy: 0.6831 - loss: 2.5483 - val_accuracy: 0.7273 - val_loss: 2.2010\n",
            "Epoch 5/20\n",
            "\u001b[1m149/149\u001b[0m \u001b[32m━━━━━━━━━━━━━━━━━━━━\u001b[0m\u001b[37m\u001b[0m \u001b[1m21s\u001b[0m 128ms/step - accuracy: 0.6861 - loss: 2.3871 - val_accuracy: 0.7288 - val_loss: 2.1598\n",
            "Epoch 6/20\n",
            "\u001b[1m149/149\u001b[0m \u001b[32m━━━━━━━━━━━━━━━━━━━━\u001b[0m\u001b[37m\u001b[0m \u001b[1m21s\u001b[0m 131ms/step - accuracy: 0.6927 - loss: 2.2058 - val_accuracy: 0.7305 - val_loss: 2.1423\n",
            "Epoch 7/20\n",
            "\u001b[1m149/149\u001b[0m \u001b[32m━━━━━━━━━━━━━━━━━━━━\u001b[0m\u001b[37m\u001b[0m \u001b[1m20s\u001b[0m 128ms/step - accuracy: 0.6974 - loss: 2.0443 - val_accuracy: 0.7320 - val_loss: 2.1419\n",
            "Epoch 8/20\n",
            "\u001b[1m149/149\u001b[0m \u001b[32m━━━━━━━━━━━━━━━━━━━━\u001b[0m\u001b[37m\u001b[0m \u001b[1m20s\u001b[0m 131ms/step - accuracy: 0.7032 - loss: 1.8877 - val_accuracy: 0.7330 - val_loss: 2.1549\n",
            "Epoch 9/20\n",
            "\u001b[1m149/149\u001b[0m \u001b[32m━━━━━━━━━━━━━━━━━━━━\u001b[0m\u001b[37m\u001b[0m \u001b[1m19s\u001b[0m 131ms/step - accuracy: 0.7126 - loss: 1.7227 - val_accuracy: 0.7352 - val_loss: 2.1629\n",
            "Epoch 10/20\n",
            "\u001b[1m149/149\u001b[0m \u001b[32m━━━━━━━━━━━━━━━━━━━━\u001b[0m\u001b[37m\u001b[0m \u001b[1m20s\u001b[0m 128ms/step - accuracy: 0.7319 - loss: 1.5461 - val_accuracy: 0.7368 - val_loss: 2.1810\n",
            "Epoch 11/20\n",
            "\u001b[1m149/149\u001b[0m \u001b[32m━━━━━━━━━━━━━━━━━━━━\u001b[0m\u001b[37m\u001b[0m \u001b[1m21s\u001b[0m 131ms/step - accuracy: 0.7574 - loss: 1.3725 - val_accuracy: 0.7375 - val_loss: 2.2018\n",
            "Epoch 12/20\n",
            "\u001b[1m149/149\u001b[0m \u001b[32m━━━━━━━━━━━━━━━━━━━━\u001b[0m\u001b[37m\u001b[0m \u001b[1m20s\u001b[0m 128ms/step - accuracy: 0.7856 - loss: 1.2120 - val_accuracy: 0.7385 - val_loss: 2.2237\n",
            "Epoch 13/20\n",
            "\u001b[1m149/149\u001b[0m \u001b[32m━━━━━━━━━━━━━━━━━━━━\u001b[0m\u001b[37m\u001b[0m \u001b[1m20s\u001b[0m 128ms/step - accuracy: 0.8185 - loss: 1.0337 - val_accuracy: 0.7391 - val_loss: 2.2465\n",
            "Epoch 14/20\n",
            "\u001b[1m149/149\u001b[0m \u001b[32m━━━━━━━━━━━━━━━━━━━━\u001b[0m\u001b[37m\u001b[0m \u001b[1m21s\u001b[0m 129ms/step - accuracy: 0.8412 - loss: 0.9006 - val_accuracy: 0.7393 - val_loss: 2.2733\n",
            "Epoch 15/20\n",
            "\u001b[1m149/149\u001b[0m \u001b[32m━━━━━━━━━━━━━━━━━━━━\u001b[0m\u001b[37m\u001b[0m \u001b[1m19s\u001b[0m 131ms/step - accuracy: 0.8677 - loss: 0.7614 - val_accuracy: 0.7393 - val_loss: 2.2966\n",
            "Epoch 16/20\n",
            "\u001b[1m149/149\u001b[0m \u001b[32m━━━━━━━━━━━━━━━━━━━━\u001b[0m\u001b[37m\u001b[0m \u001b[1m20s\u001b[0m 128ms/step - accuracy: 0.8898 - loss: 0.6450 - val_accuracy: 0.7411 - val_loss: 2.3234\n",
            "Epoch 17/20\n",
            "\u001b[1m149/149\u001b[0m \u001b[32m━━━━━━━━━━━━━━━━━━━━\u001b[0m\u001b[37m\u001b[0m \u001b[1m21s\u001b[0m 128ms/step - accuracy: 0.9109 - loss: 0.5419 - val_accuracy: 0.7419 - val_loss: 2.3454\n",
            "Epoch 18/20\n",
            "\u001b[1m149/149\u001b[0m \u001b[32m━━━━━━━━━━━━━━━━━━━━\u001b[0m\u001b[37m\u001b[0m \u001b[1m20s\u001b[0m 128ms/step - accuracy: 0.9299 - loss: 0.4478 - val_accuracy: 0.7424 - val_loss: 2.3765\n",
            "Epoch 19/20\n",
            "\u001b[1m149/149\u001b[0m \u001b[32m━━━━━━━━━━━━━━━━━━━━\u001b[0m\u001b[37m\u001b[0m \u001b[1m19s\u001b[0m 128ms/step - accuracy: 0.9436 - loss: 0.3777 - val_accuracy: 0.7429 - val_loss: 2.3979\n",
            "Epoch 20/20\n",
            "\u001b[1m149/149\u001b[0m \u001b[32m━━━━━━━━━━━━━━━━━━━━\u001b[0m\u001b[37m\u001b[0m \u001b[1m20s\u001b[0m 128ms/step - accuracy: 0.9578 - loss: 0.3040 - val_accuracy: 0.7428 - val_loss: 2.4219\n"
          ]
        }
      ]
    },
    {
      "cell_type": "code",
      "source": [
        "# ==============================\n",
        "# 🔄 STEP 7: Transformer\n",
        "# ==============================\n",
        "from tensorflow.keras.layers import LayerNormalization, MultiHeadAttention, Add\n",
        "import tensorflow as tf\n",
        "class TransformerBlock(tf.keras.layers.Layer):\n",
        "    def __init__(self, embed_dim, num_heads, ff_dim, rate=0.1):\n",
        "        super().__init__()\n",
        "        self.att = MultiHeadAttention(num_heads=num_heads, key_dim=embed_dim)\n",
        "        self.ffn = tf.keras.Sequential([\n",
        "            Dense(ff_dim, activation=\"relu\"),\n",
        "            Dense(embed_dim),\n",
        "        ])\n",
        "        self.layernorm1 = LayerNormalization(epsilon=1e-6)\n",
        "        self.layernorm2 = LayerNormalization(epsilon=1e-6)\n",
        "        self.dropout1 = Dropout(rate)\n",
        "        self.dropout2 = Dropout(rate)\n",
        "\n",
        "    def call(self, inputs, training=None):\n",
        "        attn_output = self.att(inputs, inputs, training=training)\n",
        "        out1 = self.layernorm1(inputs + self.dropout1(attn_output, training=training))\n",
        "        ffn_output = self.ffn(out1)\n",
        "        return self.layernorm2(out1 + self.dropout2(ffn_output, training=training))\n",
        "\n",
        "enc_inputs = Input(shape=(max_content_len,))\n",
        "enc_emb = Embedding(vocab_content, embedding_dim)(enc_inputs)\n",
        "enc_out = TransformerBlock(embedding_dim, 4, 512)(enc_emb)\n",
        "\n",
        "dec_inputs = Input(shape=(max_title_len - 1,))\n",
        "dec_emb = Embedding(vocab_title, embedding_dim)(dec_inputs)\n",
        "dec_attn = MultiHeadAttention(num_heads=4, key_dim=embedding_dim)(dec_emb, enc_out)\n",
        "dec_out = LayerNormalization(epsilon=1e-6)(dec_emb + dec_attn)\n",
        "dec_ffn = Dense(embedding_dim, activation='relu')(dec_out)\n",
        "dec_out = LayerNormalization(epsilon=1e-6)(dec_out + dec_ffn)\n",
        "\n",
        "final_out = Dense(vocab_title, activation='softmax')(dec_out)\n",
        "transformer_model = Model([enc_inputs, dec_inputs], final_out)\n",
        "transformer_model.compile(optimizer='adam', loss='sparse_categorical_crossentropy', metrics=['accuracy'])"
      ],
      "metadata": {
        "id": "FfAFLuZ0SJcx"
      },
      "execution_count": 19,
      "outputs": []
    },
    {
      "cell_type": "code",
      "source": [
        "transformer_history = transformer_model.fit([X_train, decoder_input_train], decoder_target_train,\n",
        "                                            validation_data=([X_val, decoder_input_val], decoder_target_val),\n",
        "                                            epochs=10 , batch_size=64)"
      ],
      "metadata": {
        "colab": {
          "base_uri": "https://localhost:8080/"
        },
        "id": "U5locEV_SOG2",
        "outputId": "ca967e35-0828-45e6-f802-049e5db18f94"
      },
      "execution_count": 20,
      "outputs": [
        {
          "output_type": "stream",
          "name": "stdout",
          "text": [
            "Epoch 1/10\n",
            "\u001b[1m149/149\u001b[0m \u001b[32m━━━━━━━━━━━━━━━━━━━━\u001b[0m\u001b[37m\u001b[0m \u001b[1m48s\u001b[0m 163ms/step - accuracy: 0.6459 - loss: 4.6307 - val_accuracy: 0.7188 - val_loss: 2.3727\n",
            "Epoch 2/10\n",
            "\u001b[1m149/149\u001b[0m \u001b[32m━━━━━━━━━━━━━━━━━━━━\u001b[0m\u001b[37m\u001b[0m \u001b[1m13s\u001b[0m 84ms/step - accuracy: 0.6746 - loss: 2.8087 - val_accuracy: 0.7203 - val_loss: 2.3639\n",
            "Epoch 3/10\n",
            "\u001b[1m149/149\u001b[0m \u001b[32m━━━━━━━━━━━━━━━━━━━━\u001b[0m\u001b[37m\u001b[0m \u001b[1m20s\u001b[0m 84ms/step - accuracy: 0.6778 - loss: 2.7174 - val_accuracy: 0.7309 - val_loss: 2.2468\n",
            "Epoch 4/10\n",
            "\u001b[1m149/149\u001b[0m \u001b[32m━━━━━━━━━━━━━━━━━━━━\u001b[0m\u001b[37m\u001b[0m \u001b[1m21s\u001b[0m 87ms/step - accuracy: 0.7043 - loss: 2.3508 - val_accuracy: 0.7554 - val_loss: 2.0294\n",
            "Epoch 5/10\n",
            "\u001b[1m149/149\u001b[0m \u001b[32m━━━━━━━━━━━━━━━━━━━━\u001b[0m\u001b[37m\u001b[0m \u001b[1m20s\u001b[0m 87ms/step - accuracy: 0.7724 - loss: 1.5795 - val_accuracy: 0.7550 - val_loss: 2.0366\n",
            "Epoch 6/10\n",
            "\u001b[1m149/149\u001b[0m \u001b[32m━━━━━━━━━━━━━━━━━━━━\u001b[0m\u001b[37m\u001b[0m \u001b[1m20s\u001b[0m 86ms/step - accuracy: 0.7727 - loss: 1.1345 - val_accuracy: 0.7513 - val_loss: 2.1025\n",
            "Epoch 7/10\n",
            "\u001b[1m149/149\u001b[0m \u001b[32m━━━━━━━━━━━━━━━━━━━━\u001b[0m\u001b[37m\u001b[0m \u001b[1m20s\u001b[0m 84ms/step - accuracy: 0.7685 - loss: 0.9910 - val_accuracy: 0.7525 - val_loss: 2.1459\n",
            "Epoch 8/10\n",
            "\u001b[1m149/149\u001b[0m \u001b[32m━━━━━━━━━━━━━━━━━━━━\u001b[0m\u001b[37m\u001b[0m \u001b[1m20s\u001b[0m 84ms/step - accuracy: 0.7714 - loss: 0.9243 - val_accuracy: 0.7515 - val_loss: 2.1441\n",
            "Epoch 9/10\n",
            "\u001b[1m149/149\u001b[0m \u001b[32m━━━━━━━━━━━━━━━━━━━━\u001b[0m\u001b[37m\u001b[0m \u001b[1m21s\u001b[0m 87ms/step - accuracy: 0.7722 - loss: 0.8891 - val_accuracy: 0.7526 - val_loss: 2.2117\n",
            "Epoch 10/10\n",
            "\u001b[1m149/149\u001b[0m \u001b[32m━━━━━━━━━━━━━━━━━━━━\u001b[0m\u001b[37m\u001b[0m \u001b[1m20s\u001b[0m 86ms/step - accuracy: 0.7761 - loss: 0.8471 - val_accuracy: 0.7527 - val_loss: 2.2332\n"
          ]
        }
      ]
    },
    {
      "cell_type": "code",
      "source": [
        "# ==============================\n",
        "# 📊 STEP 8: Evaluation & Visualization\n",
        "# ==============================\n",
        "def plot_history(histories, model_names):\n",
        "    plt.figure(figsize=(10,6))\n",
        "    for h, name in zip(histories, model_names):\n",
        "        plt.plot(h.history['val_loss'], label=f'{name} Val')\n",
        "        plt.plot(h.history['loss'], label=f'{name} Train')\n",
        "    plt.xlabel('Epochs')\n",
        "    plt.ylabel('Loss')\n",
        "    plt.title('Model Loss Comparison')\n",
        "    plt.legend()\n",
        "    plt.show()\n",
        "\n",
        "plot_history([lstm_history, bilstm_history, transformer_history], ['LSTM', 'BiLSTM', 'Transformer'])\n"
      ],
      "metadata": {
        "colab": {
          "base_uri": "https://localhost:8080/",
          "height": 564
        },
        "id": "K4CUirt5SQau",
        "outputId": "c44c1529-9622-4e6d-a2b0-8f97777afa9e"
      },
      "execution_count": 21,
      "outputs": [
        {
          "output_type": "display_data",
          "data": {
            "text/plain": [
              "<Figure size 1000x600 with 1 Axes>"
            ],
            "image/png": "[encoded data removed]"
          },
          "metadata": {}
        }
      ]
    },
    {
      "cell_type": "code",
      "source": [
        "!pip install rouge_score\n",
        "from rouge_score import rouge_scorer"
      ],
      "metadata": {
        "colab": {
          "base_uri": "https://localhost:8080/"
        },
        "id": "e7HaYedqZ5Mu",
        "outputId": "674ab0a7-6895-4443-fef3-0155eb8ea770"
      },
      "execution_count": 23,
      "outputs": [
        {
          "output_type": "stream",
          "name": "stdout",
          "text": [
            "Collecting rouge_score\n",
            "  Downloading rouge_score-0.1.2.tar.gz (17 kB)\n",
            "  Preparing metadata (setup.py) ... \u001b[?25l\u001b[?25hdone\n",
            "Requirement already satisfied: absl-py in /usr/local/lib/python3.11/dist-packages (from rouge_score) (1.4.0)\n",
            "Requirement already satisfied: nltk in /usr/local/lib/python3.11/dist-packages (from rouge_score) (3.9.1)\n",
            "Requirement already satisfied: numpy in /usr/local/lib/python3.11/dist-packages (from rouge_score) (2.0.2)\n",
            "Requirement already satisfied: six>=1.14.0 in /usr/local/lib/python3.11/dist-packages (from rouge_score) (1.17.0)\n",
            "Requirement already satisfied: click in /usr/local/lib/python3.11/dist-packages (from nltk->rouge_score) (8.2.1)\n",
            "Requirement already satisfied: joblib in /usr/local/lib/python3.11/dist-packages (from nltk->rouge_score) (1.5.1)\n",
            "Requirement already satisfied: regex>=2021.8.3 in /usr/local/lib/python3.11/dist-packages (from nltk->rouge_score) (2024.11.6)\n",
            "Requirement already satisfied: tqdm in /usr/local/lib/python3.11/dist-packages (from nltk->rouge_score) (4.67.1)\n",
            "Building wheels for collected packages: rouge_score\n",
            "  Building wheel for rouge_score (setup.py) ... \u001b[?25l\u001b[?25hdone\n",
            "  Created wheel for rouge_score: filename=rouge_score-0.1.2-py3-none-any.whl size=24934 sha256=0e399dd5fcb4ec669ec72beef1c7f3d86570a91e470a063087e3dbc0c540840b\n",
            "  Stored in directory: /root/.cache/pip/wheels/1e/19/43/8a442dc83660ca25e163e1bd1f89919284ab0d0c1475475148\n",
            "Successfully built rouge_score\n",
            "Installing collected packages: rouge_score\n",
            "Successfully installed rouge_score-0.1.2\n"
          ]
        }
      ]
    },
    {
      "cell_type": "code",
      "source": [
        "# ==============================\n",
        "# 📏 STEP 9: ROUGE Evaluation\n",
        "# ==============================\n",
        "def decode_predictions(model, X, decoder_input):\n",
        "    preds = model.predict([X, decoder_input])\n",
        "    preds_seq = np.argmax(preds, axis=-1)\n",
        "    return title_tok.sequences_to_texts(preds_seq)\n",
        "\n",
        "def rouge_evaluation(model, name):\n",
        "    references = title_tok.sequences_to_texts([seq[1:] for seq in decoder_target_val])\n",
        "    predictions = decode_predictions(model, X_val, decoder_input_val)\n",
        "    scorer = rouge_scorer.RougeScorer(['rouge1', 'rouge2', 'rougeL'], use_stemmer=True)\n",
        "\n",
        "    rouge1_scores, rouge2_scores, rougeL_scores = [], [], []\n",
        "    for ref, pred in zip(references, predictions):\n",
        "        scores = scorer.score(ref, pred)\n",
        "        rouge1_scores.append(scores['rouge1'].fmeasure)\n",
        "        rouge2_scores.append(scores['rouge2'].fmeasure)\n",
        "        rougeL_scores.append(scores['rougeL'].fmeasure)\n",
        "\n",
        "    print(f\"\\n{name} ROUGE Scores:\")\n",
        "    print(f\"ROUGE-1: {np.mean(rouge1_scores):.4f}\")\n",
        "    print(f\"ROUGE-2: {np.mean(rouge2_scores):.4f}\")\n",
        "    print(f\"ROUGE-L: {np.mean(rougeL_scores):.4f}\")\n",
        "\n",
        "# Run ROUGE Evaluation\n",
        "rouge_evaluation(lstm_model, \"LSTM\")\n",
        "rouge_evaluation(bilstm_model, \"BiLSTM\")\n",
        "rouge_evaluation(transformer_model, \"Transformer\")\n"
      ],
      "metadata": {
        "colab": {
          "base_uri": "https://localhost:8080/"
        },
        "id": "6YPxpb-_Zmsz",
        "outputId": "5236c0dc-0fe2-4df3-b9b9-67021e1057f0"
      },
      "execution_count": 24,
      "outputs": [
        {
          "output_type": "stream",
          "name": "stdout",
          "text": [
            "\u001b[1m38/38\u001b[0m \u001b[32m━━━━━━━━━━━━━━━━━━━━\u001b[0m\u001b[37m\u001b[0m \u001b[1m4s\u001b[0m 83ms/step\n",
            "\n",
            "LSTM ROUGE Scores:\n",
            "ROUGE-1: 0.0000\n",
            "ROUGE-2: 0.0000\n",
            "ROUGE-L: 0.0000\n",
            "\u001b[1m38/38\u001b[0m \u001b[32m━━━━━━━━━━━━━━━━━━━━\u001b[0m\u001b[37m\u001b[0m \u001b[1m4s\u001b[0m 81ms/step\n",
            "\n",
            "BiLSTM ROUGE Scores:\n",
            "ROUGE-1: 0.0000\n",
            "ROUGE-2: 0.0000\n",
            "ROUGE-L: 0.0000\n",
            "\u001b[1m38/38\u001b[0m \u001b[32m━━━━━━━━━━━━━━━━━━━━\u001b[0m\u001b[37m\u001b[0m \u001b[1m9s\u001b[0m 181ms/step\n",
            "\n",
            "Transformer ROUGE Scores:\n",
            "ROUGE-1: 0.0000\n",
            "ROUGE-2: 0.0000\n",
            "ROUGE-L: 0.0000\n"
          ]
        }
      ]
    },
    {
      "cell_type": "code",
      "source": [
        "sample_idx = 10\n",
        "\n",
        "# Prepare sample\n",
        "article_seq = X_val[sample_idx:sample_idx+1]\n",
        "decoder_seq = decoder_input_val[sample_idx:sample_idx+1]\n",
        "target_seq = decoder_target_val[sample_idx]\n",
        "\n",
        "# Decode predictions\n",
        "lstm_pred_text = decode_predictions(lstm_model, article_seq, decoder_seq)[0]\n",
        "bilstm_pred_text = decode_predictions(bilstm_model, article_seq, decoder_seq)[0]\n",
        "transformer_pred_text = decode_predictions(transformer_model, article_seq, decoder_seq)[0]\n",
        "\n",
        "# Ground truth (reference headline)\n",
        "true_text = title_tok.sequences_to_texts([target_seq])[0]\n",
        "# Input content\n",
        "input_text = content_tok.sequences_to_texts(article_seq)[0]\n",
        "\n",
        "# Show all\n",
        "print(f\"📄 Input Article:\\n{input_text}\\n\")\n",
        "print(f\"✅ Ground Truth Headline:\\n{true_text}\\n\")\n",
        "print(f\"🔷 LSTM Prediction:\\n{lstm_pred_text}\\n\")\n",
        "print(f\"🔶 BiLSTM Prediction:\\n{bilstm_pred_text}\\n\")\n",
        "print(f\"🟪 Transformer Prediction:\\n{transformer_pred_text}\\n\")\n"
      ],
      "metadata": {
        "colab": {
          "base_uri": "https://localhost:8080/"
        },
        "id": "a7_bjJO-ac6L",
        "outputId": "a052979a-bb85-4d1a-ad22-a4d15e3c478a"
      },
      "execution_count": 26,
      "outputs": [
        {
          "output_type": "stream",
          "name": "stdout",
          "text": [
            "\u001b[1m1/1\u001b[0m \u001b[32m━━━━━━━━━━━━━━━━━━━━\u001b[0m\u001b[37m\u001b[0m \u001b[1m0s\u001b[0m 36ms/step\n",
            "\u001b[1m1/1\u001b[0m \u001b[32m━━━━━━━━━━━━━━━━━━━━\u001b[0m\u001b[37m\u001b[0m \u001b[1m0s\u001b[0m 41ms/step\n",
            "\u001b[1m1/1\u001b[0m \u001b[32m━━━━━━━━━━━━━━━━━━━━\u001b[0m\u001b[37m\u001b[0m \u001b[1m2s\u001b[0m 2s/step\n",
            "📄 Input Article:\n",
            "সালে ১৩ এপ্রিল ডুবে যায় বিলাসবহুল জাহাজ টাইটানিক এরপর ১৯৯৭ সালে হলিউড নির্মাতা জেমস ক্যামেরন নির্মাণ করেন টাইটানিক সিনেমায় প্রধান চরিত্রে অভিনয় করেছিলেন কেট উইন্সলেট ও লিওনার্দো ডিক্যাপ্রিও টাইটানিক সিনেমায় কেট একটি গোলাপি রঙের পরেছিলেন এবার যুক্তরাষ্ট্রের নিউ জার্সির একটি নিলাম প্রতিষ্ঠান সেই নিলামে তুলেছে\n",
            "\n",
            "✅ Ground Truth Headline:\n",
            "উঠলো টাইটানিকে কেট উইন্সলেটের পরা\n",
            "\n",
            "🔷 LSTM Prediction:\n",
            "উঠছে কার্পেটে অ্যাওয়ার্ডস চ্যানের জন্মদিন\n",
            "\n",
            "🔶 BiLSTM Prediction:\n",
            "উঠছে টম বোসের ফিউরিয়াস জন্মদিন\n",
            "\n",
            "🟪 Transformer Prediction:\n",
            "উঠছে ইন্দোনেশিয়ার রোজকে মিডলটনের জন্মদিন\n",
            "\n"
          ]
        }
      ]
    }
  ]
}